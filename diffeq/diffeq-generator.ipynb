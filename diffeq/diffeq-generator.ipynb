{
 "cells": [
  {
   "cell_type": "code",
   "execution_count": 10,
   "id": "bcb7f544-871b-4441-b43e-c4c9387c1684",
   "metadata": {},
   "outputs": [],
   "source": [
    "from sympy import *\n",
    "from tqdm import tqdm\n",
    "import pandas as pd\n",
    "import numpy as np\n",
    "import random\n",
    "x, y= symbols('x y')\n",
    "f = Function(\"f\")"
   ]
  },
  {
   "cell_type": "code",
   "execution_count": 16,
   "id": "2a653cf7-52e3-42c7-9d3d-8e01074b8143",
   "metadata": {},
   "outputs": [],
   "source": [
    "def generate_problem():\n",
    "  equation = Eq(f(x).diff(x, x) - random.randint(0, 1000)*f(x).diff(x) + random.randint(0, 400)*f(x), 0)\n",
    "  answer = dsolve(equation, f(x))\n",
    "  return (str(equation), str(answer))"
   ]
  },
  {
   "cell_type": "code",
   "execution_count": 17,
   "id": "29143faf-d6a5-4dae-8779-78ab7fdc45c4",
   "metadata": {},
   "outputs": [],
   "source": [
    "def generate_data(num_problems=80_000):\n",
    "  inputs, targets = [], []\n",
    "  for prob in tqdm(range(num_problems)):\n",
    "    inp, target = generate_problem()\n",
    "    inputs.append(inp)\n",
    "    targets.append(target)\n",
    "  return inputs, targets"
   ]
  },
  {
   "cell_type": "code",
   "execution_count": 18,
   "id": "06861696-b909-405f-8dfa-09864dff108f",
   "metadata": {},
   "outputs": [
    {
     "name": "stderr",
     "output_type": "stream",
     "text": [
      "100%|██████████████████████████████████████████████████████| 5000/5000 [11:12<00:00,  7.43it/s]\n",
      "100%|████████████████████████████████████████████████████████| 800/800 [01:44<00:00,  7.68it/s]\n",
      "100%|██████████████████████████████████████████████████████| 1000/1000 [02:13<00:00,  7.52it/s]\n"
     ]
    }
   ],
   "source": [
    "train_inputs, train_targets = generate_data(num_problems=5000)\n",
    "val_inputs, val_targets = generate_data(num_problems=800)\n",
    "test_inputs, test_targets = generate_data(num_problems=1000)"
   ]
  },
  {
   "cell_type": "code",
   "execution_count": 23,
   "id": "3f40e14f-eaeb-4b16-923a-7ed76176917b",
   "metadata": {},
   "outputs": [
    {
     "data": {
      "text/html": [
       "<div>\n",
       "<style scoped>\n",
       "    .dataframe tbody tr th:only-of-type {\n",
       "        vertical-align: middle;\n",
       "    }\n",
       "\n",
       "    .dataframe tbody tr th {\n",
       "        vertical-align: top;\n",
       "    }\n",
       "\n",
       "    .dataframe thead th {\n",
       "        text-align: right;\n",
       "    }\n",
       "</style>\n",
       "<table border=\"1\" class=\"dataframe\">\n",
       "  <thead>\n",
       "    <tr style=\"text-align: right;\">\n",
       "      <th></th>\n",
       "      <th>inputs</th>\n",
       "      <th>targets</th>\n",
       "    </tr>\n",
       "  </thead>\n",
       "  <tbody>\n",
       "    <tr>\n",
       "      <th>0</th>\n",
       "      <td>Eq(47*f(x) - 700*Derivative(f(x), x) + Derivat...</td>\n",
       "      <td>Eq(f(x), C1*exp(x*(350 - sqrt(122453))) + C2*e...</td>\n",
       "    </tr>\n",
       "    <tr>\n",
       "      <th>1</th>\n",
       "      <td>Eq(202*f(x) - 991*Derivative(f(x), x) + Deriva...</td>\n",
       "      <td>Eq(f(x), C1*exp(x*(991 - sqrt(981273))/2) + C2...</td>\n",
       "    </tr>\n",
       "    <tr>\n",
       "      <th>2</th>\n",
       "      <td>Eq(188*f(x) - 801*Derivative(f(x), x) + Deriva...</td>\n",
       "      <td>Eq(f(x), C1*exp(x*(801 - sqrt(640849))/2) + C2...</td>\n",
       "    </tr>\n",
       "    <tr>\n",
       "      <th>3</th>\n",
       "      <td>Eq(83*f(x) - 244*Derivative(f(x), x) + Derivat...</td>\n",
       "      <td>Eq(f(x), C1*exp(x*(122 - 19*sqrt(41))) + C2*ex...</td>\n",
       "    </tr>\n",
       "    <tr>\n",
       "      <th>4</th>\n",
       "      <td>Eq(200*f(x) - 797*Derivative(f(x), x) + Deriva...</td>\n",
       "      <td>Eq(f(x), C1*exp(x*(797 - sqrt(634409))/2) + C2...</td>\n",
       "    </tr>\n",
       "  </tbody>\n",
       "</table>\n",
       "</div>"
      ],
      "text/plain": [
       "                                              inputs  \\\n",
       "0  Eq(47*f(x) - 700*Derivative(f(x), x) + Derivat...   \n",
       "1  Eq(202*f(x) - 991*Derivative(f(x), x) + Deriva...   \n",
       "2  Eq(188*f(x) - 801*Derivative(f(x), x) + Deriva...   \n",
       "3  Eq(83*f(x) - 244*Derivative(f(x), x) + Derivat...   \n",
       "4  Eq(200*f(x) - 797*Derivative(f(x), x) + Deriva...   \n",
       "\n",
       "                                             targets  \n",
       "0  Eq(f(x), C1*exp(x*(350 - sqrt(122453))) + C2*e...  \n",
       "1  Eq(f(x), C1*exp(x*(991 - sqrt(981273))/2) + C2...  \n",
       "2  Eq(f(x), C1*exp(x*(801 - sqrt(640849))/2) + C2...  \n",
       "3  Eq(f(x), C1*exp(x*(122 - 19*sqrt(41))) + C2*ex...  \n",
       "4  Eq(f(x), C1*exp(x*(797 - sqrt(634409))/2) + C2...  "
      ]
     },
     "execution_count": 23,
     "metadata": {},
     "output_type": "execute_result"
    }
   ],
   "source": [
    "train_df = pd.DataFrame({\"inputs\": train_inputs, \"targets\": train_targets})\n",
    "val_df = pd.DataFrame({\"inputs\": val_inputs, \"targets\": val_targets})\n",
    "test_df = pd.DataFrame({\"inputs\": test_inputs, \"targets\": test_targets})\n",
    "train_df.head()"
   ]
  },
  {
   "cell_type": "code",
   "execution_count": 24,
   "id": "27b11935-edc4-468a-a14e-d57d3026982d",
   "metadata": {},
   "outputs": [],
   "source": [
    "train_df.to_csv(\"traindata.csv\")\n",
    "val_df.to_csv(\"valdata.csv\")\n",
    "test_df.to_csv(\"testdata.csv\")"
   ]
  },
  {
   "cell_type": "code",
   "execution_count": null,
   "id": "a4895423-897a-4d74-943e-fcd85780c1fe",
   "metadata": {},
   "outputs": [],
   "source": []
  }
 ],
 "metadata": {
  "kernelspec": {
   "display_name": "Python 3 (ipykernel)",
   "language": "python",
   "name": "python3"
  },
  "language_info": {
   "codemirror_mode": {
    "name": "ipython",
    "version": 3
   },
   "file_extension": ".py",
   "mimetype": "text/x-python",
   "name": "python",
   "nbconvert_exporter": "python",
   "pygments_lexer": "ipython3",
   "version": "3.9.4"
  }
 },
 "nbformat": 4,
 "nbformat_minor": 5
}
