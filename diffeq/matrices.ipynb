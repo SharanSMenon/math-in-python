{
 "cells": [
  {
   "cell_type": "code",
   "execution_count": 23,
   "id": "7fc87b05-0eb2-436e-b9b0-1b97acf5e391",
   "metadata": {},
   "outputs": [],
   "source": [
    "import numpy as np\n",
    "import scipy\n",
    "import scipy.linalg as lin\n",
    "import numpy.linalg"
   ]
  },
  {
   "cell_type": "markdown",
   "id": "0ff1b363-0a48-448f-8b08-440bd998774e",
   "metadata": {},
   "source": [
    "## Solving Systems"
   ]
  },
  {
   "cell_type": "code",
   "execution_count": 10,
   "id": "f657df8b-dcbc-433c-968f-70b26a73f205",
   "metadata": {},
   "outputs": [],
   "source": [
    "def to_vector(a: np.ndarray): return a.reshape(-1, 1)"
   ]
  },
  {
   "cell_type": "code",
   "execution_count": 27,
   "id": "7954647a-c130-477e-a4e4-0eb7f6eccc79",
   "metadata": {},
   "outputs": [],
   "source": [
    "A = np.array([[1, 2], [1, 3]])\n",
    "b = np.array([6, 5])"
   ]
  },
  {
   "cell_type": "code",
   "execution_count": 31,
   "id": "5f3e480b-9727-4d09-ad38-48629ec25bfd",
   "metadata": {},
   "outputs": [
    {
     "name": "stdout",
     "output_type": "stream",
     "text": [
      "2.5 µs ± 26.1 ns per loop (mean ± std. dev. of 7 runs, 100000 loops each)\n"
     ]
    }
   ],
   "source": [
    "%%timeit\n",
    "numpy.linalg.solve(A, b)"
   ]
  },
  {
   "cell_type": "code",
   "execution_count": 32,
   "id": "505f11b4-b5fd-46dd-8b12-9e6f43eb3c95",
   "metadata": {},
   "outputs": [
    {
     "name": "stdout",
     "output_type": "stream",
     "text": [
      "6.7 µs ± 71.8 ns per loop (mean ± std. dev. of 7 runs, 100000 loops each)\n"
     ]
    }
   ],
   "source": [
    "%%timeit\n",
    "lin.solve(A, b)"
   ]
  },
  {
   "cell_type": "markdown",
   "id": "c1ab3680-53c8-49fd-8e67-e81717909bdd",
   "metadata": {},
   "source": [
    "Numpy is approximately 2.7x faster"
   ]
  }
 ],
 "metadata": {
  "kernelspec": {
   "display_name": "Python 3 (ipykernel)",
   "language": "python",
   "name": "python3"
  },
  "language_info": {
   "codemirror_mode": {
    "name": "ipython",
    "version": 3
   },
   "file_extension": ".py",
   "mimetype": "text/x-python",
   "name": "python",
   "nbconvert_exporter": "python",
   "pygments_lexer": "ipython3",
   "version": "3.9.4"
  }
 },
 "nbformat": 4,
 "nbformat_minor": 5
}
