{
 "cells": [
  {
   "cell_type": "code",
   "execution_count": 6,
   "id": "0a442d04-3936-4190-b1de-113a67d8f2cd",
   "metadata": {},
   "outputs": [],
   "source": [
    "import sympy\n",
    "from sympy import * \n",
    "import pandas as pd"
   ]
  },
  {
   "cell_type": "markdown",
   "id": "e6f33de3-b55c-4060-98ee-2bf53f750115",
   "metadata": {},
   "source": [
    "Define the functions `L(t)` and `Li(t)`"
   ]
  },
  {
   "cell_type": "code",
   "execution_count": 11,
   "id": "a9bf3e14-5150-457d-bda2-9dc06368196d",
   "metadata": {},
   "outputs": [],
   "source": [
    "def L(f):\n",
    "    return sympy.laplace_transform(f, t, s, noconds=True)"
   ]
  },
  {
   "cell_type": "code",
   "execution_count": 12,
   "id": "c1dd8f86-d025-483d-ad82-6877a846767c",
   "metadata": {},
   "outputs": [],
   "source": [
    "def Li(f):\n",
    "    return sympy.inverse_laplace_transform(F, s, t)"
   ]
  },
  {
   "cell_type": "code",
   "execution_count": 23,
   "id": "079d5217-d591-4cc9-81ed-16a6b233623e",
   "metadata": {},
   "outputs": [],
   "source": [
    "def makelatex(args):\n",
    "    return [\"$${}$$\".format(sympy.latex(a)) for a in args]"
   ]
  },
  {
   "cell_type": "code",
   "execution_count": 42,
   "id": "007c7069-ce2a-43b9-aebf-817f829118e7",
   "metadata": {},
   "outputs": [],
   "source": [
    "t, s, n, y = sympy.symbols('t, s, n, y')"
   ]
  },
  {
   "cell_type": "code",
   "execution_count": 50,
   "id": "f77b569b-4787-43f8-a987-744d6d20895f",
   "metadata": {},
   "outputs": [],
   "source": [
    "functions = [1, t, exp(t), sin(t), cos(t), t**n]\n",
    "laplace_functions = list(map(L, functions))"
   ]
  },
  {
   "cell_type": "code",
   "execution_count": 51,
   "id": "460bc184-4ba1-4e69-bc4b-2a798d6fa21d",
   "metadata": {},
   "outputs": [
    {
     "data": {
      "text/html": [
       "<div>\n",
       "<style scoped>\n",
       "    .dataframe tbody tr th:only-of-type {\n",
       "        vertical-align: middle;\n",
       "    }\n",
       "\n",
       "    .dataframe tbody tr th {\n",
       "        vertical-align: top;\n",
       "    }\n",
       "\n",
       "    .dataframe thead th {\n",
       "        text-align: right;\n",
       "    }\n",
       "</style>\n",
       "<table border=\"1\" class=\"dataframe\">\n",
       "  <thead>\n",
       "    <tr style=\"text-align: right;\">\n",
       "      <th></th>\n",
       "      <th>Function</th>\n",
       "      <th>Laplace</th>\n",
       "    </tr>\n",
       "  </thead>\n",
       "  <tbody>\n",
       "    <tr>\n",
       "      <th>0</th>\n",
       "      <td>$$1$$</td>\n",
       "      <td>$$\\frac{1}{s}$$</td>\n",
       "    </tr>\n",
       "    <tr>\n",
       "      <th>1</th>\n",
       "      <td>$$t$$</td>\n",
       "      <td>$$\\frac{1}{s^{2}}$$</td>\n",
       "    </tr>\n",
       "    <tr>\n",
       "      <th>2</th>\n",
       "      <td>$$e^{t}$$</td>\n",
       "      <td>$$\\frac{1}{s - 1}$$</td>\n",
       "    </tr>\n",
       "    <tr>\n",
       "      <th>3</th>\n",
       "      <td>$$\\sin{\\left(t \\right)}$$</td>\n",
       "      <td>$$\\frac{1}{s^{2} + 1}$$</td>\n",
       "    </tr>\n",
       "    <tr>\n",
       "      <th>4</th>\n",
       "      <td>$$\\cos{\\left(t \\right)}$$</td>\n",
       "      <td>$$\\frac{s}{s^{2} + 1}$$</td>\n",
       "    </tr>\n",
       "    <tr>\n",
       "      <th>5</th>\n",
       "      <td>$$t^{n}$$</td>\n",
       "      <td>$$\\frac{s^{- n} \\Gamma\\left(n + 1\\right)}{s}$$</td>\n",
       "    </tr>\n",
       "  </tbody>\n",
       "</table>\n",
       "</div>"
      ],
      "text/plain": [
       "                    Function                                         Laplace\n",
       "0                      $$1$$                                 $$\\frac{1}{s}$$\n",
       "1                      $$t$$                             $$\\frac{1}{s^{2}}$$\n",
       "2                  $$e^{t}$$                             $$\\frac{1}{s - 1}$$\n",
       "3  $$\\sin{\\left(t \\right)}$$                         $$\\frac{1}{s^{2} + 1}$$\n",
       "4  $$\\cos{\\left(t \\right)}$$                         $$\\frac{s}{s^{2} + 1}$$\n",
       "5                  $$t^{n}$$  $$\\frac{s^{- n} \\Gamma\\left(n + 1\\right)}{s}$$"
      ]
     },
     "execution_count": 51,
     "metadata": {},
     "output_type": "execute_result"
    }
   ],
   "source": [
    "pd.DataFrame(list(zip(makelatex(functions), makelatex(laplace_functions))), columns=[\"Function\", \"Laplace\"])"
   ]
  },
  {
   "cell_type": "code",
   "execution_count": null,
   "id": "0858c5d4-b62d-42cd-b273-01790e5bb402",
   "metadata": {},
   "outputs": [],
   "source": []
  }
 ],
 "metadata": {
  "kernelspec": {
   "display_name": "Python 3 (ipykernel)",
   "language": "python",
   "name": "python3"
  },
  "language_info": {
   "codemirror_mode": {
    "name": "ipython",
    "version": 3
   },
   "file_extension": ".py",
   "mimetype": "text/x-python",
   "name": "python",
   "nbconvert_exporter": "python",
   "pygments_lexer": "ipython3",
   "version": "3.9.4"
  }
 },
 "nbformat": 4,
 "nbformat_minor": 5
}
