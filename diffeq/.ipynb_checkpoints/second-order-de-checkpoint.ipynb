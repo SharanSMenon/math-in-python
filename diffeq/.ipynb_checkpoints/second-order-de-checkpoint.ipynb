{
 "cells": [
  {
   "cell_type": "code",
   "execution_count": 1,
   "id": "05849be1-ab16-4598-88ac-58998020cfc2",
   "metadata": {},
   "outputs": [],
   "source": [
    "import numpy as np\n",
    "from sympy import *\n",
    "x, y, z, t, a, w, b = symbols('x y z t a w b')"
   ]
  },
  {
   "cell_type": "code",
   "execution_count": 2,
   "id": "24ddc329-b4b1-401f-90c5-e551aa2bcbbb",
   "metadata": {},
   "outputs": [],
   "source": [
    "def wronskian(f, g):\n",
    "    fp = diff(f, t)\n",
    "    gp = diff(g, t)\n",
    "    wronskianm = Matrix([[f, g], [fp, gp]])\n",
    "    return wronskianm.det()"
   ]
  },
  {
   "cell_type": "markdown",
   "id": "6923b3ca-1d06-4caa-90d3-f0fef63006f8",
   "metadata": {},
   "source": [
    "## Solve Differential Equation"
   ]
  },
  {
   "cell_type": "code",
   "execution_count": 10,
   "id": "5bdf54a2-bfe5-4c79-a680-50ca881d19d5",
   "metadata": {},
   "outputs": [],
   "source": [
    "f = Function(\"f\")"
   ]
  },
  {
   "cell_type": "code",
   "execution_count": 12,
   "id": "ac49c77d-fdb3-4812-85e9-213a3b981157",
   "metadata": {},
   "outputs": [
    {
     "data": {
      "text/latex": [
       "$\\displaystyle - 3 \\frac{d}{d x} f{\\left(x \\right)} + \\frac{d^{2}}{d x^{2}} f{\\left(x \\right)} = - 9 e^{3 x}$"
      ],
      "text/plain": [
       "Eq(-3*Derivative(f(x), x) + Derivative(f(x), (x, 2)), -9*exp(3*x))"
      ]
     },
     "execution_count": 12,
     "metadata": {},
     "output_type": "execute_result"
    }
   ],
   "source": [
    "diffeq = Eq(f(x).diff(x, x) - 3*f(x).diff(x), -9*exp(3*x))\n",
    "diffeq"
   ]
  },
  {
   "cell_type": "code",
   "execution_count": 13,
   "id": "fe96eeb9-da9d-4a56-b00b-a592600fe01e",
   "metadata": {},
   "outputs": [
    {
     "data": {
      "text/latex": [
       "$\\displaystyle f{\\left(x \\right)} = C_{1} + \\left(C_{2} - 3 x\\right) e^{3 x}$"
      ],
      "text/plain": [
       "Eq(f(x), C1 + (C2 - 3*x)*exp(3*x))"
      ]
     },
     "execution_count": 13,
     "metadata": {},
     "output_type": "execute_result"
    }
   ],
   "source": [
    "dsolve(diffeq, f(x))"
   ]
  },
  {
   "cell_type": "code",
   "execution_count": null,
   "id": "c8a5f037-55f6-47a8-bb80-cd2796cdd7f3",
   "metadata": {},
   "outputs": [],
   "source": []
  }
 ],
 "metadata": {
  "kernelspec": {
   "display_name": "Python 3 (ipykernel)",
   "language": "python",
   "name": "python3"
  },
  "language_info": {
   "codemirror_mode": {
    "name": "ipython",
    "version": 3
   },
   "file_extension": ".py",
   "mimetype": "text/x-python",
   "name": "python",
   "nbconvert_exporter": "python",
   "pygments_lexer": "ipython3",
   "version": "3.9.4"
  }
 },
 "nbformat": 4,
 "nbformat_minor": 5
}
