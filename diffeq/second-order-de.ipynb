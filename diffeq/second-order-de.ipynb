{
 "cells": [
  {
   "cell_type": "code",
   "execution_count": 3,
   "id": "05849be1-ab16-4598-88ac-58998020cfc2",
   "metadata": {},
   "outputs": [],
   "source": [
    "import numpy as np\n",
    "from sympy import *\n",
    "x, y, z, t, a, w, b = symbols('x y z t a w b')"
   ]
  },
  {
   "cell_type": "code",
   "execution_count": 4,
   "id": "24ddc329-b4b1-401f-90c5-e551aa2bcbbb",
   "metadata": {},
   "outputs": [],
   "source": [
    "def wronskian(f, g):\n",
    "    fp = diff(f, t)\n",
    "    gp = diff(g, t)\n",
    "    wronskianm = Matrix([[f, g], [fp, gp]])\n",
    "    return wronskianm.det()"
   ]
  },
  {
   "cell_type": "markdown",
   "id": "f35ae2ca-4bc9-4449-b99b-eb799508a59b",
   "metadata": {},
   "source": [
    "## Wronskian"
   ]
  },
  {
   "cell_type": "code",
   "execution_count": 10,
   "id": "91a95173-b412-4e0e-96a7-fd024f2ab427",
   "metadata": {},
   "outputs": [
    {
     "name": "stdout",
     "output_type": "stream",
     "text": [
      "CPU times: user 670 µs, sys: 10 µs, total: 680 µs\n",
      "Wall time: 684 µs\n"
     ]
    },
    {
     "data": {
      "text/latex": [
       "$\\displaystyle - 8 t^{2}$"
      ],
      "text/plain": [
       "-8*t**2"
      ]
     },
     "execution_count": 10,
     "metadata": {},
     "output_type": "execute_result"
    }
   ],
   "source": [
    "%%time\n",
    "a = 2*t**2\n",
    "b = 4*t\n",
    "wronskian(a, b)"
   ]
  },
  {
   "cell_type": "markdown",
   "id": "6923b3ca-1d06-4caa-90d3-f0fef63006f8",
   "metadata": {},
   "source": [
    "## Solve Differential Equation"
   ]
  },
  {
   "cell_type": "code",
   "execution_count": 5,
   "id": "5bdf54a2-bfe5-4c79-a680-50ca881d19d5",
   "metadata": {},
   "outputs": [],
   "source": [
    "f = Function(\"f\")"
   ]
  },
  {
   "cell_type": "code",
   "execution_count": 12,
   "id": "ac49c77d-fdb3-4812-85e9-213a3b981157",
   "metadata": {},
   "outputs": [
    {
     "data": {
      "text/latex": [
       "$\\displaystyle - 3 \\frac{d}{d x} f{\\left(x \\right)} + \\frac{d^{2}}{d x^{2}} f{\\left(x \\right)} = - 9 e^{3 x}$"
      ],
      "text/plain": [
       "Eq(-3*Derivative(f(x), x) + Derivative(f(x), (x, 2)), -9*exp(3*x))"
      ]
     },
     "execution_count": 12,
     "metadata": {},
     "output_type": "execute_result"
    }
   ],
   "source": [
    "diffeq = Eq(f(x).diff(x, x) - 3*f(x).diff(x), -9*exp(3*x))\n",
    "diffeq"
   ]
  },
  {
   "cell_type": "code",
   "execution_count": 16,
   "id": "ccce46f8-eb9b-4124-af14-9f17565a7955",
   "metadata": {},
   "outputs": [
    {
     "data": {
      "text/plain": [
       "'Eq(-3*Derivative(f(x), x) + Derivative(f(x), (x, 2)), -9*exp(3*x))'"
      ]
     },
     "execution_count": 16,
     "metadata": {},
     "output_type": "execute_result"
    }
   ],
   "source": [
    "str(diffeq)"
   ]
  },
  {
   "cell_type": "code",
   "execution_count": 17,
   "id": "fe96eeb9-da9d-4a56-b00b-a592600fe01e",
   "metadata": {},
   "outputs": [
    {
     "name": "stdout",
     "output_type": "stream",
     "text": [
      "CPU times: user 173 ms, sys: 2.89 ms, total: 176 ms\n",
      "Wall time: 174 ms\n"
     ]
    },
    {
     "data": {
      "text/latex": [
       "$\\displaystyle f{\\left(x \\right)} = C_{1} + \\left(C_{2} - 3 x\\right) e^{3 x}$"
      ],
      "text/plain": [
       "Eq(f(x), C1 + (C2 - 3*x)*exp(3*x))"
      ]
     },
     "execution_count": 17,
     "metadata": {},
     "output_type": "execute_result"
    }
   ],
   "source": [
    "%%time\n",
    "dsolve(diffeq, f(x))"
   ]
  },
  {
   "cell_type": "code",
   "execution_count": null,
   "id": "9d693644-c7c3-422d-8f00-51a25cb9b127",
   "metadata": {},
   "outputs": [],
   "source": []
  }
 ],
 "metadata": {
  "kernelspec": {
   "display_name": "Python 3 (ipykernel)",
   "language": "python",
   "name": "python3"
  },
  "language_info": {
   "codemirror_mode": {
    "name": "ipython",
    "version": 3
   },
   "file_extension": ".py",
   "mimetype": "text/x-python",
   "name": "python",
   "nbconvert_exporter": "python",
   "pygments_lexer": "ipython3",
   "version": "3.9.4"
  }
 },
 "nbformat": 4,
 "nbformat_minor": 5
}
