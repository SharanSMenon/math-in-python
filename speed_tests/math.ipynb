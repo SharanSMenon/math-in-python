{
 "cells": [
  {
   "cell_type": "code",
   "execution_count": 1,
   "metadata": {},
   "outputs": [],
   "source": [
    "import numpy as np"
   ]
  },
  {
   "cell_type": "code",
   "execution_count": 2,
   "metadata": {},
   "outputs": [],
   "source": [
    "%load_ext Cython"
   ]
  },
  {
   "cell_type": "markdown",
   "metadata": {},
   "source": [
    "## Prime Numbers"
   ]
  },
  {
   "cell_type": "code",
   "execution_count": 3,
   "metadata": {},
   "outputs": [],
   "source": [
    "def isPrime(N):\n",
    "    for i in range(2, N):\n",
    "        if N % i == 0:\n",
    "            return False\n",
    "    return True"
   ]
  },
  {
   "cell_type": "code",
   "execution_count": 4,
   "metadata": {},
   "outputs": [],
   "source": [
    "def isPrime_np(N):\n",
    "    rem = np.remainder(N, np.arange(2, N))\n",
    "    return not np.any(rem[:] == 0)"
   ]
  },
  {
   "cell_type": "code",
   "execution_count": 5,
   "metadata": {},
   "outputs": [],
   "source": [
    "%%cython\n",
    "cpdef isPrimec(int N):\n",
    "    cdef int i\n",
    "    for i in range(2, N):\n",
    "        if N % i == 0:\n",
    "            return False\n",
    "    return True"
   ]
  },
  {
   "cell_type": "code",
   "execution_count": 6,
   "metadata": {},
   "outputs": [
    {
     "name": "stdout",
     "output_type": "stream",
     "text": [
      "3.17 µs ± 63.6 ns per loop (mean ± std. dev. of 7 runs, 200000 loops each)\n"
     ]
    }
   ],
   "source": [
    "%%timeit -n 200000\n",
    "isPrime_np(200)"
   ]
  },
  {
   "cell_type": "code",
   "execution_count": 7,
   "metadata": {},
   "outputs": [
    {
     "name": "stdout",
     "output_type": "stream",
     "text": [
      "172 ns ± 62.1 ns per loop (mean ± std. dev. of 7 runs, 200000 loops each)\n"
     ]
    }
   ],
   "source": [
    "%%timeit -n 200000\n",
    "isPrime(200)"
   ]
  },
  {
   "cell_type": "code",
   "execution_count": 9,
   "metadata": {},
   "outputs": [
    {
     "name": "stdout",
     "output_type": "stream",
     "text": [
      "50.1 ns ± 16.8 ns per loop (mean ± std. dev. of 7 runs, 200000 loops each)\n"
     ]
    }
   ],
   "source": [
    "%%timeit -n 200000\n",
    "isPrimec(200)"
   ]
  },
  {
   "cell_type": "markdown",
   "metadata": {},
   "source": [
    "## Sorting"
   ]
  },
  {
   "cell_type": "code",
   "execution_count": 10,
   "metadata": {},
   "outputs": [],
   "source": [
    "import random"
   ]
  },
  {
   "cell_type": "code",
   "execution_count": 11,
   "metadata": {},
   "outputs": [],
   "source": [
    "def simple_sort(array_):\n",
    "    array = array_.copy()\n",
    "    return_ = []\n",
    "    for i in range(len(array)):\n",
    "        smallest = min(array)\n",
    "        index = array.index(smallest)\n",
    "        return_.append(array[index])\n",
    "        array.pop(index)\n",
    "    return return_"
   ]
  },
  {
   "cell_type": "code",
   "execution_count": 12,
   "metadata": {},
   "outputs": [],
   "source": [
    "def simple_sort_np(array_):\n",
    "    array = array_.copy()\n",
    "    return_ = np.zeros((len(array)))\n",
    "    mx = array.max()\n",
    "    for i in range(len(array)):\n",
    "        index = array.argmin()\n",
    "        return_[i] = array[index]\n",
    "        array[i] = mx\n",
    "    return return_"
   ]
  },
  {
   "cell_type": "code",
   "execution_count": 13,
   "metadata": {},
   "outputs": [],
   "source": [
    "%%cython\n",
    "cpdef list simple_sortc(list array_):\n",
    "    cdef list array = array_.copy()\n",
    "    cdef list return_ = []\n",
    "    cdef int i, smallest, index\n",
    "    for i in range(len(array)):\n",
    "        smallest = min(array)\n",
    "        index = array.index(smallest)\n",
    "        return_.append(array[index])\n",
    "        array.pop(index)\n",
    "    return return_"
   ]
  },
  {
   "cell_type": "code",
   "execution_count": 14,
   "metadata": {},
   "outputs": [
    {
     "name": "stdout",
     "output_type": "stream",
     "text": [
      "[3, 20, 6, 52, 44, 54, 50, 68, 81, 50, 14, 12, 72, 26, 72, 89, 68, 71, 42, 93, 13, 66, 28, 20, 36, 34, 68, 23, 10, 15, 61, 33, 23, 44, 46, 31, 90, 97, 70, 96, 82, 63, 22, 2, 91, 83, 66, 13, 73, 88, 54, 36, 57, 18, 25, 16, 36, 15, 48, 30, 87, 57, 75, 89, 16, 73, 84, 22, 69, 26, 69, 73, 74, 24, 71, 65, 90, 39, 14, 12, 85, 22, 31, 57, 95, 1, 57, 41, 45, 19, 2, 84, 1, 28, 18, 41, 77, 35, 25, 89]\n"
     ]
    }
   ],
   "source": [
    "arr_np = np.random.randint(1, 100, 100)\n",
    "arr = list(arr_np)\n",
    "arr2 = list(arr_np)\n",
    "print(arr)"
   ]
  },
  {
   "cell_type": "code",
   "execution_count": 15,
   "metadata": {},
   "outputs": [
    {
     "name": "stdout",
     "output_type": "stream",
     "text": [
      "115 µs ± 1.36 µs per loop (mean ± std. dev. of 7 runs, 10000 loops each)\n"
     ]
    }
   ],
   "source": [
    "%%timeit -n 10000\n",
    "simple_sort(arr)"
   ]
  },
  {
   "cell_type": "code",
   "execution_count": 16,
   "metadata": {},
   "outputs": [
    {
     "name": "stdout",
     "output_type": "stream",
     "text": [
      "38.7 µs ± 1.68 µs per loop (mean ± std. dev. of 7 runs, 10000 loops each)\n"
     ]
    }
   ],
   "source": [
    "%%timeit -n 10000\n",
    "simple_sort_np(arr_np)"
   ]
  },
  {
   "cell_type": "code",
   "execution_count": 17,
   "metadata": {},
   "outputs": [
    {
     "name": "stdout",
     "output_type": "stream",
     "text": [
      "294 µs ± 1.54 µs per loop (mean ± std. dev. of 7 runs, 10000 loops each)\n"
     ]
    }
   ],
   "source": [
    "%%timeit -n 10000\n",
    "simple_sortc(arr2)"
   ]
  },
  {
   "cell_type": "markdown",
   "metadata": {},
   "source": [
    "### 2015 MBP\n",
    "- `279 µs ± 20.1 µs per loop`\n",
    "- `103 µs ± 1.1 µs per loop`\n",
    "- `779 µs ± 37.5 µs per loop`\n",
    "\n",
    "### 2020 MBA\n",
    "- `115 µs ± 1.36 µs per loop`\n",
    "- `38.7 µs ± 1.68 µs per loop`\n",
    "- `294 µs ± 1.54 µs per loop`"
   ]
  }
 ],
 "metadata": {
  "kernelspec": {
   "display_name": "Python 3",
   "language": "python",
   "name": "python3"
  },
  "language_info": {
   "codemirror_mode": {
    "name": "ipython",
    "version": 3
   },
   "file_extension": ".py",
   "mimetype": "text/x-python",
   "name": "python",
   "nbconvert_exporter": "python",
   "pygments_lexer": "ipython3",
   "version": "3.9.1"
  }
 },
 "nbformat": 4,
 "nbformat_minor": 4
}
