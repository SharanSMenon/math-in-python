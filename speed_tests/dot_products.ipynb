{
 "cells": [
  {
   "cell_type": "code",
   "execution_count": 1,
   "metadata": {},
   "outputs": [],
   "source": [
    "import numpy as np\n",
    "import time\n",
    "import multiprocessing\n",
    "import torch"
   ]
  },
  {
   "cell_type": "code",
   "execution_count": 2,
   "metadata": {},
   "outputs": [],
   "source": [
    "%load_ext Cython"
   ]
  },
  {
   "cell_type": "code",
   "execution_count": 3,
   "metadata": {},
   "outputs": [],
   "source": [
    "a = [1, 2, 3]\n",
    "b = [4, 5, 6]"
   ]
  },
  {
   "cell_type": "code",
   "execution_count": 17,
   "metadata": {},
   "outputs": [],
   "source": [
    "anp = np.array(a, dtype=np.int32)\n",
    "bnp = np.array(b, dtype=np.int32)\n",
    "ath = torch.tensor(a, dtype=torch.int32)\n",
    "bth = torch.tensor(b, dtype=torch.int32)"
   ]
  },
  {
   "cell_type": "code",
   "execution_count": 5,
   "metadata": {},
   "outputs": [],
   "source": [
    "def dot(a, b):\n",
    "    return sum([a[i]*b[i] for i in range(len(a))])"
   ]
  },
  {
   "cell_type": "code",
   "execution_count": 6,
   "metadata": {},
   "outputs": [],
   "source": [
    "def dot_multi(args):\n",
    "    a, b = args\n",
    "    return sum([a[i]*b[i] for i in range(len(a))])"
   ]
  },
  {
   "cell_type": "code",
   "execution_count": 7,
   "metadata": {},
   "outputs": [],
   "source": [
    "%%cython\n",
    "cpdef float dotc(list a, list b):\n",
    "    return sum([a[i]*b[i] for i in range(len(a))])"
   ]
  },
  {
   "cell_type": "code",
   "execution_count": 8,
   "metadata": {},
   "outputs": [],
   "source": [
    "%%cython\n",
    "cpdef float dotc_op(list a, list b):\n",
    "    cdef int i\n",
    "    cdef float sm = 0\n",
    "    for i in range(len(a)):\n",
    "        sm += a[i] * b[i]\n",
    "    return sm"
   ]
  },
  {
   "cell_type": "code",
   "execution_count": 9,
   "metadata": {},
   "outputs": [
    {
     "name": "stdout",
     "output_type": "stream",
     "text": [
      "CPU times: user 4.86 s, sys: 20.7 ms, total: 4.88 s\n",
      "Wall time: 4.88 s\n"
     ]
    }
   ],
   "source": [
    "%%time\n",
    "for i in range(10000000):\n",
    "    _ = dot(a, b)"
   ]
  },
  {
   "cell_type": "code",
   "execution_count": 10,
   "metadata": {},
   "outputs": [
    {
     "name": "stdout",
     "output_type": "stream",
     "text": [
      "Took 1811.636 milliseconds or 1811636000 nanoseconds\n"
     ]
    }
   ],
   "source": [
    "t1 = time.time_ns()\n",
    "for i in range(10000000):\n",
    "    _ = dotc(a, b)\n",
    "t2 = time.time_ns()\n",
    "elapsed = t2-t1\n",
    "print(f\"Took {elapsed/1e6} milliseconds or {elapsed} nanoseconds\")"
   ]
  },
  {
   "cell_type": "code",
   "execution_count": 11,
   "metadata": {},
   "outputs": [
    {
     "name": "stdout",
     "output_type": "stream",
     "text": [
      "Took 1744.399 milliseconds or 1744399000 nanoseconds\n"
     ]
    }
   ],
   "source": [
    "t1 = time.time_ns()\n",
    "for i in range(10000000):\n",
    "    _ = dotc_op(a, b)\n",
    "t2 = time.time_ns()\n",
    "elapsed = t2-t1\n",
    "print(f\"Took {elapsed/1e6} milliseconds or {elapsed} nanoseconds\")"
   ]
  },
  {
   "cell_type": "code",
   "execution_count": 12,
   "metadata": {},
   "outputs": [
    {
     "name": "stdout",
     "output_type": "stream",
     "text": [
      "CPU times: user 6.11 s, sys: 37.8 ms, total: 6.15 s\n",
      "Wall time: 6.14 s\n"
     ]
    }
   ],
   "source": [
    "%%time\n",
    "for i in range(10000000):\n",
    "    _ = np.dot(anp, bnp)"
   ]
  },
  {
   "cell_type": "code",
   "execution_count": 18,
   "metadata": {},
   "outputs": [
    {
     "name": "stdout",
     "output_type": "stream",
     "text": [
      "CPU times: user 6.72 s, sys: 10.6 ms, total: 6.73 s\n",
      "Wall time: 6.73 s\n"
     ]
    }
   ],
   "source": [
    "%%time\n",
    "for i in range(10000000):\n",
    "    _ = torch.dot(ath, bth)"
   ]
  },
  {
   "cell_type": "code",
   "execution_count": null,
   "metadata": {},
   "outputs": [],
   "source": []
  }
 ],
 "metadata": {
  "kernelspec": {
   "display_name": "Python 3 (ipykernel)",
   "language": "python",
   "name": "python3"
  },
  "language_info": {
   "codemirror_mode": {
    "name": "ipython",
    "version": 3
   },
   "file_extension": ".py",
   "mimetype": "text/x-python",
   "name": "python",
   "nbconvert_exporter": "python",
   "pygments_lexer": "ipython3",
   "version": "3.9.4"
  }
 },
 "nbformat": 4,
 "nbformat_minor": 4
}
