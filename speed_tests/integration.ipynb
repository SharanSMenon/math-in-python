{
 "cells": [
  {
   "cell_type": "code",
   "execution_count": 1,
   "metadata": {},
   "outputs": [],
   "source": [
    "import numpy as np"
   ]
  },
  {
   "cell_type": "code",
   "execution_count": 2,
   "metadata": {},
   "outputs": [],
   "source": [
    "import multiprocessing"
   ]
  },
  {
   "cell_type": "code",
   "execution_count": 8,
   "metadata": {},
   "outputs": [],
   "source": [
    "%load_ext Cython"
   ]
  },
  {
   "cell_type": "code",
   "execution_count": 3,
   "metadata": {},
   "outputs": [],
   "source": [
    "def f(x):\n",
    "    return 3*x**2"
   ]
  },
  {
   "cell_type": "code",
   "execution_count": 4,
   "metadata": {},
   "outputs": [],
   "source": [
    "def integrate_trapezoids(f, N, a, b):\n",
    "    \"\"\"\n",
    "    Integrates the functions given the bounds b and a, by using the trapezoidal rule. It is faster and more accurate than the rectangular method\n",
    "    \"\"\"\n",
    "    value = 0\n",
    "    subInt = float(b - a) / N\n",
    "    value += f(a)/2.0\n",
    "     # Dividing to seperate intervals\n",
    "    for n in range(1, N + 1):\n",
    "        value += f(a + n*subInt)\n",
    "    return value * subInt"
   ]
  },
  {
   "cell_type": "code",
   "execution_count": 5,
   "metadata": {},
   "outputs": [],
   "source": [
    "def integrate_trapezoids_multi(args):\n",
    "    \"\"\"\n",
    "    Integrates the functions given the bounds b and a, by using the trapezoidal rule. It is faster and more accurate than the rectangular method\n",
    "    \"\"\"\n",
    "    f, N, a, b = args\n",
    "    value = 0\n",
    "    subInt = float(b - a) / N\n",
    "    value += f(a)/2.0\n",
    "     # Dividing to seperate intervals\n",
    "    for n in range(1, N + 1):\n",
    "        value += f(a + n*subInt)\n",
    "    return value * subInt"
   ]
  },
  {
   "cell_type": "code",
   "execution_count": 6,
   "metadata": {},
   "outputs": [
    {
     "name": "stdout",
     "output_type": "stream",
     "text": [
      "CPU times: user 1.88 s, sys: 7.15 ms, total: 1.89 s\n",
      "Wall time: 1.89 s\n"
     ]
    }
   ],
   "source": [
    "%%time\n",
    "for i in range(1000):\n",
    "    integrate_trapezoids(f, 15000, 0, 10)"
   ]
  },
  {
   "cell_type": "code",
   "execution_count": 23,
   "metadata": {},
   "outputs": [],
   "source": [
    "%%cython\n",
    "cdef float fc(float x):\n",
    "    return -3*x**2\n",
    "cpdef float integrate_trapezoids_c(int N, float a, float b):\n",
    "    \"\"\"\n",
    "    Integrates the functions given the bounds b and a, by using the trapezoidal rule. It is faster and more accurate than the rectangular method\n",
    "    \"\"\"\n",
    "    cdef int n\n",
    "    cdef float value = 0\n",
    "    subInt = float(b - a) / N\n",
    "    value += fc(a)/2\n",
    "     # Dividing to seperate intervals\n",
    "    for n in range(1, N + 1):\n",
    "        value += fc(a + n*subInt)\n",
    "    return value * subInt"
   ]
  },
  {
   "cell_type": "code",
   "execution_count": 24,
   "metadata": {},
   "outputs": [
    {
     "name": "stdout",
     "output_type": "stream",
     "text": [
      "CPU times: user 28.2 ms, sys: 719 µs, total: 28.9 ms\n",
      "Wall time: 28.3 ms\n"
     ]
    }
   ],
   "source": [
    "%%time\n",
    "for i in range(1000):\n",
    "    integrate_trapezoids_c(15000, 0, 10)"
   ]
  },
  {
   "cell_type": "code",
   "execution_count": null,
   "metadata": {},
   "outputs": [],
   "source": []
  }
 ],
 "metadata": {
  "kernelspec": {
   "display_name": "Python 3",
   "language": "python",
   "name": "python3"
  },
  "language_info": {
   "codemirror_mode": {
    "name": "ipython",
    "version": 3
   },
   "file_extension": ".py",
   "mimetype": "text/x-python",
   "name": "python",
   "nbconvert_exporter": "python",
   "pygments_lexer": "ipython3",
   "version": "3.9.1"
  }
 },
 "nbformat": 4,
 "nbformat_minor": 4
}
